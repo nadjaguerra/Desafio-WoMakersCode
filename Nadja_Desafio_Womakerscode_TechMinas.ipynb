{
  "nbformat": 4,
  "nbformat_minor": 0,
  "metadata": {
    "colab": {
      "provenance": [],
      "include_colab_link": true
    },
    "kernelspec": {
      "name": "python3",
      "display_name": "Python 3"
    },
    "language_info": {
      "name": "python"
    }
  },
  "cells": [
    {
      "cell_type": "markdown",
      "metadata": {
        "id": "view-in-github",
        "colab_type": "text"
      },
      "source": [
        "<a href=\"https://colab.research.google.com/github/nadjaguerra/Desafio-WoMakersCode/blob/main/Nadja_Desafio_Womakerscode_TechMinas.ipynb\" target=\"_parent\"><img src=\"https://colab.research.google.com/assets/colab-badge.svg\" alt=\"Open In Colab\"/></a>"
      ]
    },
    {
      "cell_type": "markdown",
      "source": [
        "### Bem vindas ao desafio de python do bootcamp Tech Minas da WoMakersCode!\n",
        "Neste notebook, voce deve escrever o codigo python em resposta à cada uma das perguntas. Esteja atenta ao enunciado do problema!\n"
      ],
      "metadata": {
        "id": "Z55f1u4p4oHu"
      }
    },
    {
      "cell_type": "markdown",
      "source": [
        "### Desafio 1\n",
        "Escreva uma função em python que lê dois números inteiros (a,b) e gere como resultado as seguintes operações:adição, subtração, multiplicação e divisão. Execute a funçao na celula abaixo, deixando visivel exemplos de resultados.\n"
      ],
      "metadata": {
        "id": "oFGdIzuu5W7b"
      }
    },
    {
      "cell_type": "code",
      "source": [
        "def operations(a,b):\n",
        "    soma = a+b\n",
        "    sub = a-b\n",
        "    mult = a*b\n",
        "    div = a/b\n",
        "    \n",
        "    return soma, sub, mult, div"
      ],
      "metadata": {
        "id": "LzCl-VH14t4a"
      },
      "execution_count": null,
      "outputs": []
    },
    {
      "cell_type": "code",
      "execution_count": null,
      "metadata": {
        "id": "kMNcvrYZ4krA"
      },
      "outputs": [],
      "source": [
        "a= int (input())\n",
        "b= int (input())\n",
        "\n",
        "print (operations (a,b))"
      ]
    },
    {
      "cell_type": "markdown",
      "source": [
        "### Desafio 2\n",
        "Escreva uma função em python que leia como input uma idade e retorne a classificaçao da ideade do individuo da seguinte forma em:\n",
        "\n",
        "*  Criança – 0 a 12 anos\n",
        "*  Adolescente – 13 a 17 anos\n",
        "*  Adulto – acima de 18 anos\n",
        "\n",
        "\n",
        "Se a idade for um número negativo, mostrar a mensagem que a \"idade inválida\"\n",
        "\n"
      ],
      "metadata": {
        "id": "m_tFtRo5581u"
      }
    },
    {
      "cell_type": "code",
      "source": [
        "def classification (i):\n",
        "\n",
        "    if i < 0:\n",
        "      print (\"Idade Inválida\")\n",
        "    elif i >=0 and i <= 12:\n",
        "      print(\"Criança\")\n",
        "    elif i >12 and i <=17:\n",
        "      print(\"Adolescente\")\n",
        "    elif i >17:\n",
        "      print(\"Adulto\")"
      ],
      "metadata": {
        "id": "cL-OpHGv6hyc"
      },
      "execution_count": null,
      "outputs": []
    },
    {
      "cell_type": "code",
      "source": [
        "i = int (input())\n",
        "c = classification (i)"
      ],
      "metadata": {
        "id": "49IE2lI66zNO"
      },
      "execution_count": null,
      "outputs": []
    },
    {
      "cell_type": "markdown",
      "source": [
        "### Desafio 3\n",
        "Crie uma função em python que receba como input um determinado horário em horas e retorne a conversao deste horário para segundos\n"
      ],
      "metadata": {
        "id": "wIGGNN_v60s4"
      }
    },
    {
      "cell_type": "code",
      "source": [
        "def time_converter(t):\n",
        "    converter = t*3600\n",
        "    return converter"
      ],
      "metadata": {
        "id": "JOF_tcax7ABd"
      },
      "execution_count": null,
      "outputs": []
    },
    {
      "cell_type": "code",
      "source": [
        "t = int (input())\n",
        "\n",
        "print(time_converter(t))"
      ],
      "metadata": {
        "id": "AJf1IqiC7Mq_"
      },
      "execution_count": null,
      "outputs": []
    },
    {
      "cell_type": "markdown",
      "source": [
        "### Desafio 4\n",
        "Crie uma função em python que calcule a média artimética de uma aluna que cursou a disciplina de Programação I. A funcao deve receber como input as notas M1, M2 e M3 e calcular a média. Após a média calculada, a funcao deve anunciar se a aluna foi aprovado, reprovado ou pegou exame de acordo conm a seguinte classificacao:\n",
        "\n",
        "* Se a média estiver entre 0.0 e 4.0, o aluno está reprovado\n",
        "* Se a média estiver entre 4.1 e 6.0, o aluno pegou exame\n",
        "* Se a média for maior do que 6.0, o aluno está aprovado\n",
        "* Se o aluno pegou exame, deve ser lida a nota do exame. Se a nota do exame for maior do que 6.0, está aprovado, senão; está reprovado\n"
      ],
      "metadata": {
        "id": "RCrTUh1E7OWn"
      }
    },
    {
      "cell_type": "code",
      "source": [
        "def calcula_media(M1,M2,M3):\n",
        "    media =  (M1+M2+M3)/3\n",
        "    if media >=0  and media <= 4:\n",
        "      print (\"Reprovado\")\n",
        "    elif media >6:\n",
        "      print(\"Aprovado\") \n",
        "    elif media >=4.1 and media <= 6:\n",
        "      print (\"Prova Final\")\n",
        "      PF = float(input())\n",
        "      \n",
        "      ''' condição para prova final'''\n",
        "      if PF >=6:\n",
        "        print (\"Aprovado\")\n",
        "      elif PF <6:\n",
        "        print (\"Reprovado\")\n",
        "    \n",
        "    return media\n",
        "      "
      ],
      "metadata": {
        "id": "VzNdyWZE70oc"
      },
      "execution_count": null,
      "outputs": []
    },
    {
      "cell_type": "code",
      "source": [
        "M1, M2, M3 = [int(x) for x in input().split()]\n",
        "c = calcula_media(M1,M2,M3)"
      ],
      "metadata": {
        "id": "cY7vMECS77QY"
      },
      "execution_count": null,
      "outputs": []
    },
    {
      "cell_type": "markdown",
      "source": [
        "### Desafio 5\n",
        "Dado a seguinte lista: \n",
        "* equipes_bootcamp_dados = [BerthaLutz, GraceHopper, JaquelineGoes, SarahGilbert]\n",
        "\n",
        "1. Crie uma função em python que conte quantas vezes aparece a letra a em cada elemento da lista. Seu resultado deve ser uma lista . exemplo: [4,0,1,2]\n",
        "\n",
        "2. Leia a lista de alunas: ['Maria', 'Ana','Camila','Mariana','Elaine','Patricia','Marina','Erica','Larissa','Luiza', 'Nicole','Bruna']\n",
        "\n",
        "3. Crie uma função que atribua cada uma das alunas em uma das equipes da lista equipes_bootcamp_dados, de modo que cada equipe pode ter 3 alunas no máximo.\n",
        "\n",
        " Para isso ordene em alfabética. O seu resultado deve ser um dicionário python. exemplo {'BerthaLutz': ['Ana', 'Bruna', 'Camila'], 'GraceHopper': ['Elaine','Erika','Luiza'],... }\n"
      ],
      "metadata": {
        "id": "eI9AkpYT788b"
      }
    },
    {
      "cell_type": "code",
      "source": [
        "##### ETAPA 1\n",
        "def contador(equipes_bootcamp_dados):\n",
        "  count = 0\n",
        "  for letter in equipes_bootcamp_dados :\n",
        "        if letter == \"a\" :\n",
        "            count = count + 1\n",
        "  equipes_bootcamp_dados.count(\"a\")  \n",
        "  return count"
      ],
      "metadata": {
        "id": "Zk6U7KnL8WBd"
      },
      "execution_count": null,
      "outputs": []
    },
    {
      "cell_type": "code",
      "source": [
        "equipes_bootcamp_dados = ['BerthaLutz', 'SaraceHopper', 'JaquelineGoes', 'SarahGilbert']\n",
        "\n",
        "print (contador(equipes_bootcamp_dados))"
      ],
      "metadata": {
        "id": "snTgwxt_8hcj"
      },
      "execution_count": null,
      "outputs": []
    },
    {
      "cell_type": "code",
      "source": [
        "lista_alunas = ['Maria', 'Ana','Camila','Mariana','Elaine','Patricia','Marina','Erica','Larissa','Luiza', 'Nicole','Bruna']\n",
        "equipes_bootcamp_dados = ['BerthaLutz', 'SaraceHopper', 'JaquelineGoes', 'SarahGilbert']\n"
      ],
      "metadata": {
        "id": "xgkMVykO8jB-"
      },
      "execution_count": 5,
      "outputs": []
    },
    {
      "cell_type": "code",
      "source": [
        "##### ESCREVER A FUNCAO DA ETAPA 3\n",
        "def grupos(lista, n):\n",
        " lista_1 = sorted(lista_alunas)\n",
        "\n",
        " for i in range(0, len(lista), n):\n",
        "        yield lista[i:i + n]"
      ],
      "metadata": {
        "id": "_ySYFooB8jFF"
      },
      "execution_count": 6,
      "outputs": []
    },
    {
      "cell_type": "code",
      "source": [
        "##### RODAR A FUNCAO DA ETAPA 3\n",
        "\n",
        "print(dict(zip(equipes_bootcamp_dados, list(grupos(lista_1, 3)))))"
      ],
      "metadata": {
        "id": "8qZnUInj9Uvr"
      },
      "execution_count": null,
      "outputs": []
    },
    {
      "cell_type": "markdown",
      "source": [
        "### Desafio 6\n",
        "Escreva uma função em python que leia uma temperatura em graus Celsius e retorne a conversao dela em graus Fahrenheit. \n",
        "\n",
        "A fórmula de conversão é F = (9 * C + 160) / 5, na qual F é a temperatura em Fahrenheit e C é a temperatura em graus Celsius\n",
        "\n",
        "\n"
      ],
      "metadata": {
        "id": "AXoFPjyx82gG"
      }
    },
    {
      "cell_type": "code",
      "source": [
        "def conversor_temperatura(temperatura):\n",
        "  F = (9 * temperatura + 160) / 5\n",
        "  return F"
      ],
      "metadata": {
        "id": "OsCU2Msu9D9o"
      },
      "execution_count": null,
      "outputs": []
    },
    {
      "cell_type": "code",
      "source": [
        "temperatura = float (input())\n",
        "\n",
        "print(conversor_temperatura(temperatura))"
      ],
      "metadata": {
        "id": "UBCdsBgi9Xa2"
      },
      "execution_count": null,
      "outputs": []
    }
  ]
}